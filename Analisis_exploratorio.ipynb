{
 "cells": [
  {
   "cell_type": "code",
   "execution_count": 144,
   "metadata": {},
   "outputs": [],
   "source": [
    "import pandas as pd\n",
    "import numpy as np\n",
    "import matplotlib.pyplot as plt"
   ]
  },
  {
   "cell_type": "markdown",
   "metadata": {},
   "source": [
    "## Loading data  "
   ]
  },
  {
   "cell_type": "code",
   "execution_count": 145,
   "metadata": {},
   "outputs": [],
   "source": [
    "train = pd.read_csv('data/train.csv')\n",
    "test = pd.read_csv('data/test.csv')\n",
    "severity_type = pd.read_csv('data/severity_type.csv')\n",
    "resource_type = pd.read_csv('data/resource_type.csv')\n",
    "event_type = pd.read_csv('data/event_type.csv')\n",
    "log_feature = pd.read_csv('data/log_feature.csv')"
   ]
  },
  {
   "cell_type": "code",
   "execution_count": 146,
   "metadata": {},
   "outputs": [
    {
     "name": "stdout",
     "output_type": "stream",
     "text": [
      "-----------  Train  ----------\n",
      "      id      location  fault_severity\n",
      "0  14121  location 118               1\n",
      "1   9320   location 91               0\n",
      "2  14394  location 152               1\n",
      "3   8218  location 931               1\n",
      "4  14804  location 120               0\n",
      "size: 7381\n",
      "\n",
      "----------   Test   -----------\n",
      "      id      location\n",
      "0  11066  location 481\n",
      "1  18000  location 962\n",
      "2  16964  location 491\n",
      "3   4795  location 532\n",
      "4   3392  location 600\n",
      "size: 11171\n",
      "\n",
      "-------- Severity_type --------\n",
      "     id    severity_type\n",
      "0  6597  severity_type 2\n",
      "1  8011  severity_type 2\n",
      "2  2597  severity_type 2\n",
      "3  5022  severity_type 1\n",
      "4  6852  severity_type 1\n",
      "size: 18552\n",
      "\n",
      "-------- Resource_type --------\n",
      "     id    resource_type\n",
      "0  6597  resource_type 8\n",
      "1  8011  resource_type 8\n",
      "2  2597  resource_type 8\n",
      "3  5022  resource_type 8\n",
      "4  6852  resource_type 8\n",
      "size: 21076\n",
      "\n",
      "--------  Event_type  --------\n",
      "     id     event_type\n",
      "0  6597  event_type 11\n",
      "1  8011  event_type 15\n",
      "2  2597  event_type 15\n",
      "3  5022  event_type 15\n",
      "4  5022  event_type 11\n",
      "size: 31170\n",
      "\n",
      "--------  Log_feature  --------\n",
      "     id  log_feature  volume\n",
      "0  6597   feature 68       6\n",
      "1  8011   feature 68       7\n",
      "2  2597   feature 68       1\n",
      "3  5022  feature 172       2\n",
      "4  5022   feature 56       1\n",
      "size: 58671\n"
     ]
    }
   ],
   "source": [
    "print('-----------  Train  ----------')\n",
    "print(train.head())\n",
    "print('size:', train.shape[0])\n",
    "print('\\n----------   Test   -----------')\n",
    "print(test.head())\n",
    "print('size:', test.shape[0])\n",
    "print('\\n-------- Severity_type --------')\n",
    "print(severity_type.head())\n",
    "print('size:', severity_type.shape[0])\n",
    "print('\\n-------- Resource_type --------')\n",
    "print(resource_type.head())\n",
    "print('size:', resource_type.shape[0])\n",
    "print('\\n--------  Event_type  --------')\n",
    "print(event_type.head())\n",
    "print('size:', event_type.shape[0])\n",
    "print('\\n--------  Log_feature  --------')\n",
    "print(log_feature.head())\n",
    "print('size:', log_feature.shape[0])"
   ]
  },
  {
   "cell_type": "code",
   "execution_count": 147,
   "metadata": {},
   "outputs": [
    {
     "name": "stdout",
     "output_type": "stream",
     "text": [
      "-----------  Train  ----------\n",
      "<class 'pandas.core.frame.DataFrame'>\n",
      "RangeIndex: 7381 entries, 0 to 7380\n",
      "Data columns (total 3 columns):\n",
      "id                7381 non-null int64\n",
      "location          7381 non-null object\n",
      "fault_severity    7381 non-null int64\n",
      "dtypes: int64(2), object(1)\n",
      "memory usage: 173.1+ KB\n",
      "None\n",
      "\n",
      "----------   Test   -----------\n",
      "<class 'pandas.core.frame.DataFrame'>\n",
      "RangeIndex: 11171 entries, 0 to 11170\n",
      "Data columns (total 2 columns):\n",
      "id          11171 non-null int64\n",
      "location    11171 non-null object\n",
      "dtypes: int64(1), object(1)\n",
      "memory usage: 174.6+ KB\n",
      "None\n",
      "\n",
      "-------- Severity_type --------\n",
      "<class 'pandas.core.frame.DataFrame'>\n",
      "RangeIndex: 18552 entries, 0 to 18551\n",
      "Data columns (total 2 columns):\n",
      "id               18552 non-null int64\n",
      "severity_type    18552 non-null object\n",
      "dtypes: int64(1), object(1)\n",
      "memory usage: 290.0+ KB\n",
      "None\n",
      "\n",
      "-------- Resource_type --------\n",
      "<class 'pandas.core.frame.DataFrame'>\n",
      "RangeIndex: 21076 entries, 0 to 21075\n",
      "Data columns (total 2 columns):\n",
      "id               21076 non-null int64\n",
      "resource_type    21076 non-null object\n",
      "dtypes: int64(1), object(1)\n",
      "memory usage: 329.4+ KB\n",
      "None\n",
      "\n",
      "--------  Event_type  --------\n",
      "<class 'pandas.core.frame.DataFrame'>\n",
      "RangeIndex: 31170 entries, 0 to 31169\n",
      "Data columns (total 2 columns):\n",
      "id            31170 non-null int64\n",
      "event_type    31170 non-null object\n",
      "dtypes: int64(1), object(1)\n",
      "memory usage: 487.1+ KB\n",
      "None\n",
      "\n",
      "--------  Log_feature  --------\n",
      "<class 'pandas.core.frame.DataFrame'>\n",
      "RangeIndex: 58671 entries, 0 to 58670\n",
      "Data columns (total 3 columns):\n",
      "id             58671 non-null int64\n",
      "log_feature    58671 non-null object\n",
      "volume         58671 non-null int64\n",
      "dtypes: int64(2), object(1)\n",
      "memory usage: 1.3+ MB\n",
      "None\n"
     ]
    }
   ],
   "source": [
    "print('-----------  Train  ----------')\n",
    "print(train.info())\n",
    "print('\\n----------   Test   -----------')\n",
    "print(test.info())\n",
    "print('\\n-------- Severity_type --------')\n",
    "print(severity_type.info())\n",
    "print('\\n-------- Resource_type --------')\n",
    "print(resource_type.info())\n",
    "print('\\n--------  Event_type  --------')\n",
    "print(event_type.info())\n",
    "print('\\n--------  Log_feature  --------')\n",
    "print(log_feature.info())"
   ]
  },
  {
   "cell_type": "markdown",
   "metadata": {},
   "source": [
    "Nos damos cuenta que no tenemos valores perdidos, el dataset con mas entradas es 'log_feature' con 58671"
   ]
  },
  {
   "cell_type": "markdown",
   "metadata": {},
   "source": [
    "## Analyzing each dataset"
   ]
  },
  {
   "cell_type": "markdown",
   "metadata": {},
   "source": [
    "### Train"
   ]
  },
  {
   "cell_type": "code",
   "execution_count": 148,
   "metadata": {},
   "outputs": [
    {
     "data": {
      "text/plain": [
       "location 821     0.011516\n",
       "location 1107    0.010568\n",
       "location 734     0.010161\n",
       "location 126     0.009619\n",
       "location 1008    0.009619\n",
       "location 810     0.008942\n",
       "location 600     0.008671\n",
       "location 704     0.008264\n",
       "location 242     0.008129\n",
       "location 124     0.007993\n",
       "location 1052    0.007858\n",
       "location 122     0.007587\n",
       "location 684     0.007587\n",
       "location 793     0.007452\n",
       "location 834     0.007316\n",
       "location 653     0.007181\n",
       "location 1019    0.007181\n",
       "location 798     0.007045\n",
       "location 763     0.006910\n",
       "location 846     0.006774\n",
       "location 91      0.006639\n",
       "location 976     0.006503\n",
       "location 1100    0.006097\n",
       "location 471     0.006097\n",
       "location 962     0.006097\n",
       "location 102     0.005961\n",
       "location 1042    0.005826\n",
       "location 244     0.005555\n",
       "location 808     0.005419\n",
       "location 995     0.005419\n",
       "                   ...   \n",
       "location 592     0.000135\n",
       "location 250     0.000135\n",
       "location 434     0.000135\n",
       "location 6       0.000135\n",
       "location 538     0.000135\n",
       "location 659     0.000135\n",
       "location 933     0.000135\n",
       "location 391     0.000135\n",
       "location 551     0.000135\n",
       "location 65      0.000135\n",
       "location 596     0.000135\n",
       "location 357     0.000135\n",
       "location 872     0.000135\n",
       "location 929     0.000135\n",
       "location 291     0.000135\n",
       "location 683     0.000135\n",
       "location 871     0.000135\n",
       "location 860     0.000135\n",
       "location 60      0.000135\n",
       "location 196     0.000135\n",
       "location 516     0.000135\n",
       "location 1068    0.000135\n",
       "location 285     0.000135\n",
       "location 850     0.000135\n",
       "location 310     0.000135\n",
       "location 528     0.000135\n",
       "location 235     0.000135\n",
       "location 339     0.000135\n",
       "location 289     0.000135\n",
       "location 622     0.000135\n",
       "Name: location, Length: 929, dtype: float64"
      ]
     },
     "execution_count": 148,
     "metadata": {},
     "output_type": "execute_result"
    }
   ],
   "source": [
    "train.location.value_counts()/train.shape[0]"
   ]
  },
  {
   "cell_type": "markdown",
   "metadata": {},
   "source": [
    "Vemos que existen 929 ubicaciones diferentes en el archivo train. La ubicacion que mas se repite es la 821 con el 1.15% de los registros"
   ]
  },
  {
   "cell_type": "code",
   "execution_count": 149,
   "metadata": {},
   "outputs": [
    {
     "data": {
      "text/plain": [
       "0    64.815066\n",
       "1    25.348869\n",
       "2     9.836066\n",
       "Name: fault_severity, dtype: float64"
      ]
     },
     "execution_count": 149,
     "metadata": {},
     "output_type": "execute_result"
    }
   ],
   "source": [
    "100*(train.fault_severity.value_counts()/train.shape[0])"
   ]
  },
  {
   "cell_type": "code",
   "execution_count": 150,
   "metadata": {},
   "outputs": [
    {
     "data": {
      "text/plain": [
       "Text(0.5, 0, 'Clases')"
      ]
     },
     "execution_count": 150,
     "metadata": {},
     "output_type": "execute_result"
    },
    {
     "data": {
      "image/png": "[encoded data removed]",
      "text/plain": [
       "<Figure size 432x288 with 1 Axes>"
      ]
     },
     "metadata": {
      "needs_background": "light"
     },
     "output_type": "display_data"
    }
   ],
   "source": [
    "count_classes = pd.value_counts(train.fault_severity, sort=True)\n",
    "count_classes.plot(kind='bar', rot=0)\n",
    "plt.title('NÚMERO DE OBSERVACIONES POR CLASE')\n",
    "plt.ylabel('Frecuencia')\n",
    "plt.xlabel('Clases')"
   ]
  },
  {
   "cell_type": "markdown",
   "metadata": {},
   "source": [
    "Detectamos un problema de clases desbalanceadas, la clase 0 aparece en el 64.8% de los registros, la clase 1 en el 25.3% y la mas interesante para Telstra y para el análisis, la clase 2 aparece en el 9.8% unicamente"
   ]
  },
  {
   "cell_type": "markdown",
   "metadata": {},
   "source": [
    "### Test"
   ]
  },
  {
   "cell_type": "code",
   "execution_count": 151,
   "metadata": {},
   "outputs": [
    {
     "data": {
      "text/plain": [
       "location 734     0.009757\n",
       "location 653     0.009668\n",
       "location 1107    0.009489\n",
       "location 126     0.009489\n",
       "location 810     0.009131\n",
       "location 704     0.009131\n",
       "location 821     0.008773\n",
       "location 684     0.008683\n",
       "location 793     0.008594\n",
       "location 1019    0.008504\n",
       "location 1008    0.008146\n",
       "location 1052    0.007878\n",
       "location 834     0.007878\n",
       "location 962     0.007699\n",
       "location 124     0.007609\n",
       "location 995     0.007519\n",
       "location 244     0.007161\n",
       "location 763     0.007072\n",
       "location 122     0.006982\n",
       "location 1100    0.006982\n",
       "location 798     0.006445\n",
       "location 600     0.006445\n",
       "location 613     0.006356\n",
       "location 242     0.006177\n",
       "location 976     0.005908\n",
       "location 102     0.005819\n",
       "location 118     0.005729\n",
       "location 1042    0.005640\n",
       "location 465     0.005640\n",
       "location 845     0.005550\n",
       "                   ...   \n",
       "location 1062    0.000090\n",
       "location 565     0.000090\n",
       "location 370     0.000090\n",
       "location 572     0.000090\n",
       "location 207     0.000090\n",
       "location 611     0.000090\n",
       "location 162     0.000090\n",
       "location 585     0.000090\n",
       "location 515     0.000090\n",
       "location 570     0.000090\n",
       "location 840     0.000090\n",
       "location 1060    0.000090\n",
       "location 981     0.000090\n",
       "location 736     0.000090\n",
       "location 461     0.000090\n",
       "location 623     0.000090\n",
       "location 203     0.000090\n",
       "location 43      0.000090\n",
       "location 262     0.000090\n",
       "location 359     0.000090\n",
       "location 140     0.000090\n",
       "location 143     0.000090\n",
       "location 545     0.000090\n",
       "location 308     0.000090\n",
       "location 279     0.000090\n",
       "location 708     0.000090\n",
       "location 341     0.000090\n",
       "location 54      0.000090\n",
       "location 908     0.000090\n",
       "location 28      0.000090\n",
       "Name: location, Length: 1039, dtype: float64"
      ]
     },
     "execution_count": 151,
     "metadata": {},
     "output_type": "execute_result"
    }
   ],
   "source": [
    "test.location.value_counts()/test.shape[0]"
   ]
  },
  {
   "cell_type": "markdown",
   "metadata": {},
   "source": [
    "En el archivo test tenemos 1039 ubicaciones diferentes. "
   ]
  },
  {
   "cell_type": "markdown",
   "metadata": {},
   "source": [
    "### Train + Test"
   ]
  },
  {
   "cell_type": "code",
   "execution_count": 152,
   "metadata": {},
   "outputs": [],
   "source": [
    "completo = pd.concat([train, test], axis=0, sort=False)"
   ]
  },
  {
   "cell_type": "code",
   "execution_count": 153,
   "metadata": {},
   "outputs": [
    {
     "data": {
      "text/plain": [
       "18552"
      ]
     },
     "execution_count": 153,
     "metadata": {},
     "output_type": "execute_result"
    }
   ],
   "source": [
    "len(completo.id.unique())"
   ]
  },
  {
   "cell_type": "markdown",
   "metadata": {},
   "source": [
    "Tenemos 18552 id's diferentes, por lo que ninguno se repite en train y test. "
   ]
  },
  {
   "cell_type": "code",
   "execution_count": 154,
   "metadata": {},
   "outputs": [
    {
     "data": {
      "text/plain": [
       "location 734     0.991807\n",
       "location 1107    0.991807\n",
       "location 821     0.986417\n",
       "location 126     0.954075\n",
       "location 810     0.905563\n",
       "location 704     0.878611\n",
       "location 1008    0.873221\n",
       "location 653     0.867831\n",
       "location 684     0.824709\n",
       "location 793     0.813928\n",
       "location 1019    0.797758\n",
       "location 1052    0.786977\n",
       "location 124     0.776197\n",
       "location 834     0.765416\n",
       "location 600     0.733075\n",
       "location 122     0.722294\n",
       "location 962     0.706123\n",
       "location 763     0.700733\n",
       "location 242     0.695343\n",
       "location 798     0.668392\n",
       "location 995     0.668392\n",
       "location 1100    0.663001\n",
       "location 244     0.652221\n",
       "location 976     0.614489\n",
       "location 613     0.592928\n",
       "location 102     0.587538\n",
       "location 846     0.587538\n",
       "location 1042    0.571367\n",
       "location 845     0.544416\n",
       "location 471     0.539025\n",
       "                   ...   \n",
       "location 196     0.005390\n",
       "location 250     0.005390\n",
       "location 254     0.005390\n",
       "location 331     0.005390\n",
       "location 366     0.005390\n",
       "location 572     0.005390\n",
       "location 207     0.005390\n",
       "location 5       0.005390\n",
       "location 456     0.005390\n",
       "location 1070    0.005390\n",
       "location 502     0.005390\n",
       "location 333     0.005390\n",
       "location 992     0.005390\n",
       "location 55      0.005390\n",
       "location 308     0.005390\n",
       "location 486     0.005390\n",
       "location 368     0.005390\n",
       "location 982     0.005390\n",
       "location 43      0.005390\n",
       "location 545     0.005390\n",
       "location 1123    0.005390\n",
       "location 633     0.005390\n",
       "location 487     0.005390\n",
       "location 279     0.005390\n",
       "location 341     0.005390\n",
       "location 54      0.005390\n",
       "location 716     0.005390\n",
       "location 908     0.005390\n",
       "location 585     0.005390\n",
       "location 28      0.005390\n",
       "Name: location, Length: 1126, dtype: float64"
      ]
     },
     "execution_count": 154,
     "metadata": {},
     "output_type": "execute_result"
    }
   ],
   "source": [
    "100*(completo.location.value_counts()/completo.shape[0])"
   ]
  },
  {
   "cell_type": "markdown",
   "metadata": {},
   "source": [
    "Tenemos 1126 ubicaciones diferentes, 734 es la mas repetida"
   ]
  },
  {
   "cell_type": "markdown",
   "metadata": {},
   "source": [
    "### Event type"
   ]
  },
  {
   "cell_type": "code",
   "execution_count": 155,
   "metadata": {},
   "outputs": [
    {
     "data": {
      "text/plain": [
       "(31170, 2)"
      ]
     },
     "execution_count": 155,
     "metadata": {},
     "output_type": "execute_result"
    }
   ],
   "source": [
    "event_type.shape"
   ]
  },
  {
   "cell_type": "code",
   "execution_count": 156,
   "metadata": {},
   "outputs": [
    {
     "data": {
      "text/plain": [
       "event_type 11    25.306384\n",
       "event_type 35    21.222329\n",
       "event_type 34    19.015079\n",
       "event_type 15    14.100096\n",
       "event_type 20     4.677575\n",
       "event_type 54     2.194418\n",
       "event_type 13     1.867180\n",
       "event_type 42     1.533526\n",
       "event_type 44     1.495027\n",
       "event_type 23     1.376323\n",
       "event_type 14     1.058710\n",
       "event_type 43     0.981713\n",
       "event_type 22     0.715432\n",
       "event_type 50     0.494065\n",
       "event_type 10     0.465191\n",
       "event_type 21     0.436317\n",
       "event_type 18     0.234200\n",
       "event_type 47     0.221367\n",
       "event_type 26     0.208534\n",
       "event_type 32     0.202117\n",
       "event_type 30     0.192493\n",
       "event_type 45     0.170035\n",
       "event_type 24     0.147578\n",
       "event_type 27     0.141161\n",
       "event_type 29     0.134745\n",
       "event_type 40     0.128329\n",
       "event_type 46     0.121912\n",
       "event_type 2      0.118704\n",
       "event_type 28     0.102663\n",
       "event_type 8      0.093038\n",
       "event_type 6      0.089830\n",
       "event_type 5      0.083414\n",
       "event_type 7      0.076997\n",
       "event_type 3      0.060956\n",
       "event_type 38     0.060956\n",
       "event_type 36     0.057748\n",
       "event_type 39     0.057748\n",
       "event_type 49     0.054540\n",
       "event_type 53     0.054540\n",
       "event_type 19     0.044915\n",
       "event_type 9      0.044915\n",
       "event_type 31     0.032082\n",
       "event_type 37     0.032082\n",
       "event_type 12     0.019249\n",
       "event_type 25     0.016041\n",
       "event_type 1      0.012833\n",
       "event_type 51     0.012833\n",
       "event_type 17     0.009625\n",
       "event_type 48     0.006416\n",
       "event_type 41     0.006416\n",
       "event_type 52     0.003208\n",
       "event_type 4      0.003208\n",
       "event_type 33     0.003208\n",
       "Name: event_type, dtype: float64"
      ]
     },
     "execution_count": 156,
     "metadata": {},
     "output_type": "execute_result"
    }
   ],
   "source": [
    "100*(event_type.event_type.value_counts()/event_type.shape[0])"
   ]
  },
  {
   "cell_type": "code",
   "execution_count": 157,
   "metadata": {},
   "outputs": [
    {
     "data": {
      "text/plain": [
       "53"
      ]
     },
     "execution_count": 157,
     "metadata": {},
     "output_type": "execute_result"
    }
   ],
   "source": [
    "len(event_type.event_type.unique())"
   ]
  },
  {
   "cell_type": "markdown",
   "metadata": {},
   "source": [
    "Los eventos con mas frecuencia son event_type 11 y 35, con el 25.3% y 21.2% de los datos\n",
    "\n",
    "**Inferencias:**\n",
    "*El numero de resgitros en este dataset es de 31,170, el numero de id´s unicos es de 18,552, por lo tanto un id puede estar asociado a mas de un evento diferente*"
   ]
  },
  {
   "cell_type": "markdown",
   "metadata": {},
   "source": [
    "### Resource"
   ]
  },
  {
   "cell_type": "code",
   "execution_count": 158,
   "metadata": {},
   "outputs": [
    {
     "data": {
      "text/plain": [
       "(21076, 2)"
      ]
     },
     "execution_count": 158,
     "metadata": {},
     "output_type": "execute_result"
    }
   ],
   "source": [
    "resource_type.shape"
   ]
  },
  {
   "cell_type": "code",
   "execution_count": 159,
   "metadata": {},
   "outputs": [
    {
     "data": {
      "text/plain": [
       "10"
      ]
     },
     "execution_count": 159,
     "metadata": {},
     "output_type": "execute_result"
    }
   ],
   "source": [
    "len(resource_type.resource_type.value_counts())"
   ]
  },
  {
   "cell_type": "code",
   "execution_count": 160,
   "metadata": {},
   "outputs": [
    {
     "data": {
      "text/plain": [
       "resource_type 8     48.718922\n",
       "resource_type 2     42.313532\n",
       "resource_type 6      2.761435\n",
       "resource_type 7      2.362877\n",
       "resource_type 4      1.565762\n",
       "resource_type 9      0.901499\n",
       "resource_type 3      0.687986\n",
       "resource_type 10     0.346366\n",
       "resource_type 1      0.275195\n",
       "resource_type 5      0.066426\n",
       "Name: resource_type, dtype: float64"
      ]
     },
     "execution_count": 160,
     "metadata": {},
     "output_type": "execute_result"
    }
   ],
   "source": [
    "100*(resource_type.resource_type.value_counts()/resource_type.shape[0])"
   ]
  },
  {
   "cell_type": "markdown",
   "metadata": {},
   "source": [
    "Tenemos 10 tipos de recursos diferentes, al igual que el dataset de eventos, un id puede estar asociado a mas de un tipo de recurso diferente. Los recursos que aparecen con mas frecuencia son el de tipo 8 y el de tipo 2 con un 48.7% y un 42.3%"
   ]
  },
  {
   "cell_type": "markdown",
   "metadata": {},
   "source": [
    "### Severity type "
   ]
  },
  {
   "cell_type": "code",
   "execution_count": 161,
   "metadata": {},
   "outputs": [
    {
     "data": {
      "text/plain": [
       "(18552, 2)"
      ]
     },
     "execution_count": 161,
     "metadata": {},
     "output_type": "execute_result"
    }
   ],
   "source": [
    "severity_type.shape"
   ]
  },
  {
   "cell_type": "code",
   "execution_count": 162,
   "metadata": {},
   "outputs": [
    {
     "data": {
      "text/plain": [
       "5"
      ]
     },
     "execution_count": 162,
     "metadata": {},
     "output_type": "execute_result"
    }
   ],
   "source": [
    "len(severity_type.severity_type.value_counts())"
   ]
  },
  {
   "cell_type": "code",
   "execution_count": 163,
   "metadata": {},
   "outputs": [
    {
     "data": {
      "text/plain": [
       "severity_type 2    47.094653\n",
       "severity_type 1    47.046141\n",
       "severity_type 4     5.465718\n",
       "severity_type 5     0.350367\n",
       "severity_type 3     0.043122\n",
       "Name: severity_type, dtype: float64"
      ]
     },
     "execution_count": 163,
     "metadata": {},
     "output_type": "execute_result"
    }
   ],
   "source": [
    "100*(severity_type.severity_type.value_counts()/severity_type.shape[0])"
   ]
  },
  {
   "cell_type": "markdown",
   "metadata": {},
   "source": [
    "Tenemos 5 tipos diferentes de severidades, la severidad del tipo dos aparece en el 47% de los registros, al igual que la severidad del tipo 1.  \n",
    "\n",
    "**Por el número de registros sabemos que solo existe un tipo de severidad por id**"
   ]
  },
  {
   "cell_type": "markdown",
   "metadata": {},
   "source": [
    "### Log feature"
   ]
  },
  {
   "cell_type": "code",
   "execution_count": 164,
   "metadata": {},
   "outputs": [
    {
     "data": {
      "text/plain": [
       "(58671, 3)"
      ]
     },
     "execution_count": 164,
     "metadata": {},
     "output_type": "execute_result"
    }
   ],
   "source": [
    "log_feature.shape"
   ]
  },
  {
   "cell_type": "code",
   "execution_count": 165,
   "metadata": {},
   "outputs": [
    {
     "data": {
      "text/plain": [
       "386"
      ]
     },
     "execution_count": 165,
     "metadata": {},
     "output_type": "execute_result"
    }
   ],
   "source": [
    "len(log_feature.log_feature.value_counts())"
   ]
  },
  {
   "cell_type": "code",
   "execution_count": 166,
   "metadata": {},
   "outputs": [
    {
     "data": {
      "text/plain": [
       "feature 312    8.977178\n",
       "feature 232    8.102811\n",
       "feature 82     5.917745\n",
       "feature 203    4.811576\n",
       "feature 313    3.655980\n",
       "feature 233    3.240102\n",
       "feature 307    2.721958\n",
       "feature 54     2.681052\n",
       "feature 170    2.600944\n",
       "feature 71     2.580491\n",
       "feature 315    2.548107\n",
       "feature 134    2.418571\n",
       "feature 80     2.277105\n",
       "feature 235    2.205519\n",
       "feature 193    1.977127\n",
       "feature 219    1.963491\n",
       "feature 68     1.862931\n",
       "feature 227    1.840773\n",
       "feature 314    1.619199\n",
       "feature 201    1.537386\n",
       "feature 234    1.503298\n",
       "feature 73     1.479436\n",
       "feature 195    1.334561\n",
       "feature 301    1.205025\n",
       "feature 309    1.068671\n",
       "feature 55     0.961293\n",
       "feature 229    0.954475\n",
       "feature 273    0.836870\n",
       "feature 308    0.824939\n",
       "feature 368    0.787442\n",
       "                 ...   \n",
       "feature 300    0.001704\n",
       "feature 352    0.001704\n",
       "feature 364    0.001704\n",
       "feature 363    0.001704\n",
       "feature 19     0.001704\n",
       "feature 96     0.001704\n",
       "feature 355    0.001704\n",
       "feature 210    0.001704\n",
       "feature 336    0.001704\n",
       "feature 192    0.001704\n",
       "feature 32     0.001704\n",
       "feature 263    0.001704\n",
       "feature 281    0.001704\n",
       "feature 34     0.001704\n",
       "feature 325    0.001704\n",
       "feature 248    0.001704\n",
       "feature 269    0.001704\n",
       "feature 106    0.001704\n",
       "feature 144    0.001704\n",
       "feature 119    0.001704\n",
       "feature 272    0.001704\n",
       "feature 271    0.001704\n",
       "feature 252    0.001704\n",
       "feature 297    0.001704\n",
       "feature 343    0.001704\n",
       "feature 386    0.001704\n",
       "feature 100    0.001704\n",
       "feature 143    0.001704\n",
       "feature 324    0.001704\n",
       "feature 175    0.001704\n",
       "Name: log_feature, Length: 386, dtype: float64"
      ]
     },
     "execution_count": 166,
     "metadata": {},
     "output_type": "execute_result"
    }
   ],
   "source": [
    "100*(log_feature.log_feature.value_counts()/log_feature.shape[0])"
   ]
  },
  {
   "cell_type": "markdown",
   "metadata": {},
   "source": [
    "Tenemos 386 features diferentes y un total de 58671 registros, esto quiere decir que un id estar asociado a mas de uns feature diferente"
   ]
  }
 ],
 "metadata": {
  "kernelspec": {
   "display_name": "Python 3",
   "language": "python",
   "name": "python3"
  },
  "language_info": {
   "codemirror_mode": {
    "name": "ipython",
    "version": 3
   },
   "file_extension": ".py",
   "mimetype": "text/x-python",
   "name": "python",
   "nbconvert_exporter": "python",
   "pygments_lexer": "ipython3",
   "version": "3.7.3"
  }
 },
 "nbformat": 4,
 "nbformat_minor": 2
}
